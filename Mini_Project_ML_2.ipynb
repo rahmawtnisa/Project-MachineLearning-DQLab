{
  "nbformat": 4,
  "nbformat_minor": 0,
  "metadata": {
    "colab": {
      "provenance": [],
      "authorship_tag": "ABX9TyP/OOcWLLQRSpLp6i0QrLJW",
      "include_colab_link": true
    },
    "kernelspec": {
      "name": "python3",
      "display_name": "Python 3"
    },
    "language_info": {
      "name": "python"
    }
  },
  "cells": [
    {
      "cell_type": "markdown",
      "metadata": {
        "id": "view-in-github",
        "colab_type": "text"
      },
      "source": [
        "<a href=\"https://colab.research.google.com/github/rahmawtnisa/Project-MachineLearning-DQLab/blob/main/Mini_Project_ML_2.ipynb\" target=\"_parent\"><img src=\"https://colab.research.google.com/assets/colab-badge.svg\" alt=\"Open In Colab\"/></a>"
      ]
    },
    {
      "cell_type": "markdown",
      "source": [
        "## Mini Project Machine Learning\n",
        "Pada project kali ini, akan terdapat 3 tahap yang akan kita lakukan, yaitu Data Preprocessing, Model Development, dan Pengayaan.\n",
        "\n",
        "### 1. Data Preprocessing\n",
        "Pada tahap Data Preprocessing, beberapa hal yang akan kita lakukan adalah sebagai berikut.\n",
        "\n",
        "* Melakukan Encoding data kolom Label, 'profit' menjadi 1, 'loss' menjadi 0\n",
        "* Melakukan Encoding data categorical, gunakan One Hot Encoding (Dummy Variable) untuk kolom yang memiliki kategori yang kurang dari 10, sedangkan kolom lain menggunakan teknik Label Encoding\n",
        "* Transformasi nilai discount dengan menggunakan fungsi log1p dari numpy, dan tampilkan histogram hasilnya\n",
        "* Memisahkan kolom variable dan target.\n",
        "Melakukan train test split dengan ratio 0,75 dan 0,25 dan set random_state=0\n",
        "\n",
        "### 2. Model Development\n",
        "Pada tahap Model Development, kita akan melakukan :\n",
        "\n",
        "* Bangun model Decision Tree (random state = 0) dengan menggunakan dataset training\n",
        "* Prediksi pada dataset training dan testing dengan model DT yang dibangun\n",
        "* Analisis performa prediksi pada data train dan test dengan melihat classification report dan nilai akurasi sebagai performance metric\n",
        "\n",
        "### 3. Pengayaan\n",
        "Sementara itu, pada bagian Pengayaan, kita akan :\n",
        "\n",
        "* Membangun model dengan menggunakan algoritma Gradient Boosting (random state = 0), dan\n",
        "* Menganalisis performa algoritma Gradient Boosting"
      ],
      "metadata": {
        "id": "BvnvQX2Jn6Uy"
      }
    },
    {
      "cell_type": "code",
      "source": [
        "import pandas as pd\n",
        "import numpy as np\n",
        "import matplotlib.pyplot as plt\n",
        "import seaborn as sns\n",
        "\n",
        "from sklearn.preprocessing import StandardScaler, LabelEncoder\n",
        "from sklearn.model_selection import train_test_split\n",
        "\n",
        "from sklearn.tree import DecisionTreeClassifier\n",
        "from sklearn.ensemble import GradientBoostingClassifier\n",
        "\n",
        "from sklearn.metrics import classification_report, accuracy_score, confusion_matrix\n",
        "\n",
        "# Load Data\n",
        "dataset = 'https://storage.googleapis.com/dqlab-dataset/Data%20Mission.csv'\n",
        "data_df = pd.read_csv(dataset)\n",
        "\n",
        "#Lakukan Encoding data kolom Label, 'profit' menjadi 1, 'loss' menjadi 0\n",
        "mapping = {\"Profit\": 1, 'Loss':0}\n",
        "data_df['Label'] = data_df['Label'].map(mapping)\n",
        "\n",
        "# Lakukan Encoding data categorical, gunakan One Hot Encoding (Dummy Variable) untuk kolom yang memiliki kategori yang kurang dari 10, sedangkan kolom lain menggunakan teknik Label Encoding\n",
        "categori_banyak = [ 'Top Branch', 'Top Sub-Product', 'Top City', 'Month']\n",
        "encoder = LabelEncoder()\n",
        "X_labels = data_df[categori_banyak]\n",
        "X_labels = X_labels.apply(encoder.fit_transform)\n",
        "\n",
        "X_dummies = pd.get_dummies(data_df[['Region','Top Product', 'Top Cust Segment', 'Top Ship Mode']])\n",
        "\n",
        "# Transformasi nilai discount dengan menggunakan fungsi log1p dari numpy, dan tampilkan histogram hasilnya\n",
        "data_df['Discount'] = data_df.Discount.apply(np.log1p)\n",
        "data_df.Discount.hist()\n",
        "\n",
        "# Pisahkan antara kolom-kolom variable dan target.\n",
        "X = pd.concat([X_labels, X_dummies, data_df['Discount']], axis= 1)\n",
        "y = data_df[\"Label\"]\n",
        "print(X.shape, y.shape)\n",
        "\n",
        "# Kemudian lakukan train test split dengan ratio 0,75 dan 0,25 dan set random_state=0\n",
        "X_train, X_test, y_train, y_test = train_test_split(X, y, test_size=0.25, stratify = y, random_state=0)\n",
        "print('Data Training: X', X_train.shape, 'Y', y_train.shape)\n",
        "print('Data Test: X', X_test.shape, 'Y', y_test.shape)\n",
        "\n",
        "# Bangun model Decision Tree (random state = 0) dengan menggunakan dataset training\n",
        "dt_mod = DecisionTreeClassifier(random_state = 0)\n",
        "dt_mod.fit(X_train, y_train)\n",
        "\n",
        "# Lakukan prediksi pada dataset training dan testing dengan model DT yang dibangun\n",
        "y_pred_train = dt_mod.predict(X_train)\n",
        "\n",
        "y_pred_test = dt_mod.predict(X_test)\n",
        "# Analisis performa prediksi pada data train dan test dengan melihat classification report dan nilai akurasi sebagai performance metric\n",
        "# Akurasi pada dataset training\n",
        "acc_train = accuracy_score(y_train, y_pred_train)\n",
        "\n",
        "# Akurasi pada dataset test\n",
        "acc_test = accuracy_score(y_test, y_pred_test)\n",
        "\n",
        "print('Akurasi Training', acc_train)\n",
        "print('Akurasi Testing', acc_test)\n",
        "\n",
        "print(classification_report(y_test, y_pred_test))\n",
        "\n",
        "# Bangun model dengan menggunakan algoritma algoritma Gradient Boosting dengan random state = 0\n",
        "gb_mod = GradientBoostingClassifier(random_state = 0)\n",
        "gb_mod.fit(X_train, y_train)\n",
        "\n",
        "# Analisis model Gradient Boosting\n",
        "y_pred_train = gb_mod.predict(X_train)\n",
        "\n",
        "y_pred_test = gb_mod.predict(X_test)\n",
        "\n",
        "# Akurasi pada dataset training\n",
        "acc_train = accuracy_score(y_train, y_pred_train)\n",
        "\n",
        "# Akurasi pada dataset test\n",
        "acc_test = accuracy_score(y_test, y_pred_test)\n",
        "\n",
        "print('Akurasi Training', acc_train)\n",
        "print('Akurasi Testing', acc_test)\n",
        "\n",
        "print(classification_report(y_test, y_pred_test))"
      ],
      "metadata": {
        "colab": {
          "base_uri": "https://localhost:8080/",
          "height": 864
        },
        "id": "s2_qWkgsn84F",
        "outputId": "27851976-16d5-4500-c2b4-702caae12d83"
      },
      "execution_count": 1,
      "outputs": [
        {
          "output_type": "stream",
          "name": "stdout",
          "text": [
            "(2955, 19) (2955,)\n",
            "Data Training: X (2216, 19) Y (2216,)\n",
            "Data Test: X (739, 19) Y (739,)\n",
            "Akurasi Training 1.0\n",
            "Akurasi Testing 0.8376184032476319\n",
            "              precision    recall  f1-score   support\n",
            "\n",
            "           0       0.61      0.60      0.61       154\n",
            "           1       0.90      0.90      0.90       585\n",
            "\n",
            "    accuracy                           0.84       739\n",
            "   macro avg       0.75      0.75      0.75       739\n",
            "weighted avg       0.84      0.84      0.84       739\n",
            "\n",
            "Akurasi Training 0.9169675090252708\n",
            "Akurasi Testing 0.8849797023004059\n",
            "              precision    recall  f1-score   support\n",
            "\n",
            "           0       0.78      0.63      0.70       154\n",
            "           1       0.91      0.95      0.93       585\n",
            "\n",
            "    accuracy                           0.88       739\n",
            "   macro avg       0.84      0.79      0.81       739\n",
            "weighted avg       0.88      0.88      0.88       739\n",
            "\n"
          ]
        },
        {
          "output_type": "display_data",
          "data": {
            "text/plain": [
              "<Figure size 640x480 with 1 Axes>"
            ],
            "image/png": "[encoded data removed]"
          },
          "metadata": {}
        }
      ]
    },
    {
      "cell_type": "code",
      "source": [],
      "metadata": {
        "id": "CB01pDfdpCHN"
      },
      "execution_count": null,
      "outputs": []
    }
  ]
}